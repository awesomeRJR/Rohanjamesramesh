{
  "nbformat": 4,
  "nbformat_minor": 0,
  "metadata": {
    "colab": {
      "name": "nlp2.ipynb",
      "provenance": [],
      "include_colab_link": true
    },
    "kernelspec": {
      "name": "python3",
      "display_name": "Python 3"
    },
    "language_info": {
      "name": "python"
    }
  },
  "cells": [
    {
      "cell_type": "markdown",
      "metadata": {
        "id": "view-in-github",
        "colab_type": "text"
      },
      "source": [
        "<a href=\"https://colab.research.google.com/github/awesomeRJR/Rohanjamesramesh/blob/main/nlp2.ipynb\" target=\"_parent\"><img src=\"https://colab.research.google.com/assets/colab-badge.svg\" alt=\"Open In Colab\"/></a>"
      ]
    },
    {
      "cell_type": "code",
      "execution_count": null,
      "metadata": {
        "colab": {
          "base_uri": "https://localhost:8080/"
        },
        "id": "NmGqTQJ9f6DY",
        "outputId": "196edc61-7fe4-4372-8a9b-5f608e6c8ea5"
      },
      "outputs": [
        {
          "output_type": "stream",
          "name": "stdout",
          "text": [
            "['italian' 'breakfast' 'breakfast' 'italian' 'italian']\n"
          ]
        }
      ],
      "source": [
        "import numpy as np\n",
        "from sklearn.pipeline import Pipeline\n",
        "from sklearn.naive_bayes import MultinomialNB\n",
        "from sklearn.feature_extraction.text import TfidfVectorizer\n",
        "\n",
        "X_train = np.array([\"coffee is my favorite drink\",\n",
        "                    \"i like to have tea in the morning\",\n",
        "                    \"i like to eat italian food for dinner\",\n",
        "                    \"i had pasta at this restaurant and it was amazing\",\n",
        "                    \"pizza at this restaurant is the best in nyc\",\n",
        "                    \"people like italian food these days\",\n",
        "                    \"i like to have bagels for breakfast\",\n",
        "                    \"olive oil is commonly used in italian cooking\",\n",
        "                    \"sometimes simple bread and butter works for breakfast\",\n",
        "                    \"i liked spaghetti pasta at this italian restaurant\"])\n",
        "\n",
        "y_train_text = [\"breakfast\",\"breakfast\",\"italian\",\"italian\",\"italian\",\n",
        "                \"italian\",\"breakfast\",\"italian\",\"breakfast\",\"italian\"]\n",
        "\n",
        "X_test = np.array(['this is an amazing italian place. i can go there every day',\n",
        "                   'i like this place. i get great coffee and tea in the morning',\n",
        "                   'bagels are great here',\n",
        "                   'i like hiking',\n",
        "                   'everyone should understand maths'])\n",
        "\n",
        "classifier = Pipeline([\n",
        "    ('tfidf', TfidfVectorizer()),\n",
        "    ('clf', MultinomialNB())])\n",
        "\n",
        "\n",
        "classifier.fit(X_train, y_train_text)\n",
        "predicted = classifier.predict(X_test)\n",
        "print(predicted)"
      ]
    }
  ]
}